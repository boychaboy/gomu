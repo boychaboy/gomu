{
 "cells": [
  {
   "cell_type": "markdown",
   "id": "e8cd6269",
   "metadata": {},
   "source": [
    "# 🗄 NLI data analysis"
   ]
  },
  {
   "cell_type": "markdown",
   "id": "0c4535d4",
   "metadata": {},
   "source": [
    "### 1. Names\n",
    "- MNLI\n",
    "- SNLI\n",
    "### 2. Occupations\n",
    "- MNLI\n",
    "- SNLI\n",
    "### 1. NLI-names\n",
    "- MNLI\n",
    "- SNLI\n",
    "### 2. NLI-occupations\n",
    "- MNLI\n",
    "- SNLI"
   ]
  },
  {
   "cell_type": "code",
   "execution_count": 12,
   "id": "84c4ce7a",
   "metadata": {},
   "outputs": [],
   "source": [
    "# load names\n",
    "import json\n",
    "name_list = json.load(open(\"../data/names.json\"))\n",
    "names = [n[0] for n in name_list]"
   ]
  },
  {
   "cell_type": "code",
   "execution_count": 13,
   "id": "f2b4f5d9",
   "metadata": {},
   "outputs": [
    {
     "data": {
      "text/plain": [
       "392702"
      ]
     },
     "execution_count": 13,
     "metadata": {},
     "output_type": "execute_result"
    }
   ],
   "source": [
    "# load mnli train data\n",
    "with open('../data/MNLI/original/multinli_1.0_train.jsonl') as f:\n",
    "    json_list = list(f)\n",
    "    mnli_train = []\n",
    "    for json_str in json_list:\n",
    "        result = json.loads(json_str)\n",
    "        mnli_train.append(result)\n",
    "len(mnli_train)"
   ]
  },
  {
   "cell_type": "code",
   "execution_count": 14,
   "id": "b52d1787",
   "metadata": {},
   "outputs": [
    {
     "data": {
      "text/plain": [
       "'Conceptually cream skimming has two basic dimensions - product and geography. [SEP] Product and geography are what make cream skimming work. '"
      ]
     },
     "execution_count": 14,
     "metadata": {},
     "output_type": "execute_result"
    }
   ],
   "source": [
    "mnli_data = []\n",
    "SEP = ' [SEP] '\n",
    "for m in mnli_train:\n",
    "    sent = m['sentence1'] + SEP + m['sentence2']\n",
    "    mnli_data.append(sent)\n",
    "mnli_data[0]"
   ]
  },
  {
   "cell_type": "code",
   "execution_count": 21,
   "id": "b6ff8797",
   "metadata": {},
   "outputs": [
    {
     "data": {
      "text/plain": [
       "550152"
      ]
     },
     "execution_count": 21,
     "metadata": {},
     "output_type": "execute_result"
    }
   ],
   "source": [
    "# load snli train data\n",
    "with open('../data/SNLI/snli_1.0_train.jsonl') as f:\n",
    "    json_list = list(f)\n",
    "    snli_train = []\n",
    "    for json_str in json_list:\n",
    "        result = json.loads(json_str)\n",
    "        snli_train.append(result)\n",
    "len(snli_train)"
   ]
  },
  {
   "cell_type": "code",
   "execution_count": 23,
   "id": "fab0a95f",
   "metadata": {},
   "outputs": [
    {
     "data": {
      "text/plain": [
       "'A person on a horse jumps over a broken down airplane. [SEP] A person is training his horse for a competition.'"
      ]
     },
     "execution_count": 23,
     "metadata": {},
     "output_type": "execute_result"
    }
   ],
   "source": [
    "snli_data = []\n",
    "SEP = ' [SEP] '\n",
    "for m in snli_train:\n",
    "    sent = m['sentence1'] + SEP + m['sentence2']\n",
    "    snli_data.append(sent)\n",
    "snli_data[0]"
   ]
  },
  {
   "cell_type": "markdown",
   "id": "c1f58a02",
   "metadata": {},
   "source": [
    "### 1. Count names in MNLI"
   ]
  },
  {
   "cell_type": "code",
   "execution_count": 16,
   "id": "5c586271",
   "metadata": {},
   "outputs": [],
   "source": [
    "name_count = dict()\n",
    "for n in names:\n",
    "    name_count[n] = name_count.get(n, 0)\n",
    "for sent in mnli_data:\n",
    "    for n in names:\n",
    "        if n in sent:\n",
    "            name_count[n] += 1\n",
    "name_count"
   ]
  },
  {
   "cell_type": "code",
   "execution_count": 27,
   "id": "6167586d",
   "metadata": {},
   "outputs": [],
   "source": [
    "name_mnli_occurence = sorted(name_count.items(), key=(lambda x:x[1]), reverse=True)\n",
    "json.dump(name_mnli_occurence, open(\"name_mnli_occurence.json\", 'w'))"
   ]
  },
  {
   "cell_type": "markdown",
   "id": "89bf8ec8",
   "metadata": {},
   "source": [
    "### 2. Count names in SNLI"
   ]
  },
  {
   "cell_type": "code",
   "execution_count": 25,
   "id": "7c2dcd52",
   "metadata": {},
   "outputs": [
    {
     "data": {
      "text/plain": [
       "{'Abigail': 0,\n",
       " 'Amy': 3,\n",
       " 'Anita': 0,\n",
       " 'Bai': 0,\n",
       " 'Beyonce': 2,\n",
       " 'Carly': 1,\n",
       " 'Claire': 0,\n",
       " 'Craig': 0,\n",
       " 'Diamond': 0,\n",
       " 'Ebony': 0,\n",
       " 'Emily': 0,\n",
       " 'Heather': 0,\n",
       " 'Jenna': 2,\n",
       " 'Katherine': 0,\n",
       " 'Katie': 0,\n",
       " 'Kia': 0,\n",
       " 'Laquisha': 0,\n",
       " 'Maya': 18,\n",
       " 'Molly': 0,\n",
       " 'Nina': 1,\n",
       " 'Precious': 0,\n",
       " 'Raven': 4,\n",
       " 'Shaniqua': 0,\n",
       " 'Tanisha': 0,\n",
       " 'Sally': 13,\n",
       " 'Lea': 86,\n",
       " 'Priya': 0,\n",
       " 'Becky': 2,\n",
       " 'Sharon': 3,\n",
       " 'Jenny': 2,\n",
       " 'Ellen': 1,\n",
       " 'Anna': 2,\n",
       " 'Maggie': 0,\n",
       " 'Kassandra': 0,\n",
       " 'Shelly': 0,\n",
       " 'Janice': 1,\n",
       " 'Tina': 0,\n",
       " 'Joanne': 0,\n",
       " 'Lisa': 18,\n",
       " 'Monica': 0,\n",
       " 'Ruby': 10,\n",
       " 'Tricia': 0,\n",
       " 'Tasha': 0,\n",
       " 'Judy': 3,\n",
       " 'Tuppence': 0,\n",
       " 'Jen': 161,\n",
       " 'Wendy': 23,\n",
       " 'Susan': 15,\n",
       " 'Vrenna': 0,\n",
       " 'Jacqui': 0,\n",
       " 'Carrie': 0,\n",
       " 'Joan': 1,\n",
       " 'Erica': 0,\n",
       " 'Candace': 0,\n",
       " 'Cynthia': 3,\n",
       " 'Dawn': 1,\n",
       " 'Greta': 0,\n",
       " 'Shevon': 0,\n",
       " 'Candice': 1,\n",
       " 'Lily': 0,\n",
       " 'Paula': 0,\n",
       " 'Beth': 7,\n",
       " 'Lara': 0,\n",
       " 'Julie': 5,\n",
       " 'Shiloh': 0,\n",
       " 'Megan': 0,\n",
       " 'Tessa': 0,\n",
       " 'Jennifer': 4,\n",
       " 'Roberta': 0,\n",
       " 'Jane': 40,\n",
       " 'Olga': 0,\n",
       " 'Carla': 0,\n",
       " 'Cathy': 0,\n",
       " 'Monique': 0,\n",
       " 'Marianne': 0,\n",
       " 'Candy': 47,\n",
       " 'Juliette': 0,\n",
       " 'Fabioloa': 0,\n",
       " 'Kathy': 6,\n",
       " 'Yolanda': 0,\n",
       " 'Sue': 11,\n",
       " 'Benny': 1,\n",
       " 'Melissa': 0,\n",
       " 'Shannon': 0,\n",
       " 'Anne': 3,\n",
       " 'Sara': 7,\n",
       " 'Kassidy': 0,\n",
       " 'Susie': 2,\n",
       " 'Meghan': 0,\n",
       " 'Veronica': 0,\n",
       " 'Phoebe': 0,\n",
       " 'Barbara': 5,\n",
       " 'Nia': 10,\n",
       " 'Naomi': 0,\n",
       " 'Brittany': 3,\n",
       " 'Grace': 11,\n",
       " 'Cindy': 18,\n",
       " 'Liz': 1,\n",
       " 'Camille': 0,\n",
       " 'Janet': 0,\n",
       " 'Jorge': 0,\n",
       " 'Adrin': 0,\n",
       " 'Trevon': 0,\n",
       " 'Dylan': 2,\n",
       " 'Sudeep': 0,\n",
       " 'Terrance': 0,\n",
       " 'Silas': 0,\n",
       " 'Ramon': 0,\n",
       " 'Chen Wee': 0,\n",
       " 'Ronnie': 1,\n",
       " 'Rajeev': 0,\n",
       " 'Laquan': 0,\n",
       " 'Jose': 11,\n",
       " 'Tyresse': 0,\n",
       " 'Greg': 5,\n",
       " 'Treyvone': 0,\n",
       " 'Marquis': 3,\n",
       " 'Miguel': 0,\n",
       " 'Lamar': 0,\n",
       " 'Kwame': 0,\n",
       " 'Jamel': 0,\n",
       " 'Javier': 0,\n",
       " 'Malik': 0,\n",
       " 'Dustin': 1,\n",
       " 'Ming': 0,\n",
       " 'Chang Lee': 0,\n",
       " 'Chen Wu': 0,\n",
       " 'Cody': 0,\n",
       " 'Cadan': 0,\n",
       " 'LeBron': 9,\n",
       " 'Ramirez': 3,\n",
       " 'Cole': 0,\n",
       " 'Jacob': 1,\n",
       " 'Terrell': 0,\n",
       " 'Won San Lee': 0,\n",
       " 'LeShawn': 0,\n",
       " 'Connor': 0,\n",
       " 'Jake': 8,\n",
       " 'DeShawn': 0,\n",
       " 'Carlos': 3,\n",
       " 'Sheng Lee': 0,\n",
       " 'Hunter': 5,\n",
       " 'Jesus': 94,\n",
       " 'Scott': 176,\n",
       " 'Won Lee': 0,\n",
       " 'Juan': 0,\n",
       " 'Tyrone': 0,\n",
       " 'Manuel': 0,\n",
       " 'Chan': 33,\n",
       " \"D'quan\": 0,\n",
       " 'Edward': 21,\n",
       " 'John': 189,\n",
       " 'Jaleel': 0,\n",
       " 'Marcus': 0,\n",
       " 'Joey': 8,\n",
       " 'Eddie': 21,\n",
       " 'Kevin': 2,\n",
       " 'Tom': 51,\n",
       " 'Steven': 8,\n",
       " 'Mark': 99,\n",
       " 'Robert': 4,\n",
       " 'Jamie': 0,\n",
       " 'Jim': 83,\n",
       " 'Andrew': 0,\n",
       " 'Steve': 24,\n",
       " 'Shane': 3,\n",
       " 'Tim': 173,\n",
       " 'Ron': 39,\n",
       " 'Rocco': 0,\n",
       " 'Billy': 41,\n",
       " 'Vince': 3,\n",
       " 'Aaron': 27,\n",
       " 'Alan': 1,\n",
       " 'Thomas': 63,\n",
       " 'Mack': 1,\n",
       " 'Val': 47,\n",
       " 'Brady': 1,\n",
       " 'Fred': 23,\n",
       " 'Cazar': 0,\n",
       " 'Mitchell': 1,\n",
       " 'Jimmy': 21,\n",
       " 'Lars': 0,\n",
       " 'Carl': 13,\n",
       " 'David': 63,\n",
       " 'Jones': 5,\n",
       " 'Sam': 102,\n",
       " 'Jafari': 0,\n",
       " 'Raymond': 0,\n",
       " 'Thorn': 6,\n",
       " 'Sidney': 0,\n",
       " 'Denny': 2,\n",
       " 'Joe': 77,\n",
       " 'Louis': 47,\n",
       " 'James': 21,\n",
       " 'Bill': 128,\n",
       " 'Micheal': 1,\n",
       " 'Paul': 47,\n",
       " 'Zack': 0,\n",
       " 'Timmy': 8,\n",
       " 'Kariem': 0}"
      ]
     },
     "execution_count": 25,
     "metadata": {},
     "output_type": "execute_result"
    }
   ],
   "source": [
    "name_count = dict()\n",
    "for n in names:\n",
    "    name_count[n] = name_count.get(n, 0)\n",
    "for sent in snli_data:\n",
    "    for n in names:\n",
    "        if n in sent:\n",
    "            name_count[n] += 1\n",
    "name_count"
   ]
  },
  {
   "cell_type": "code",
   "execution_count": 28,
   "id": "ef87d8f9",
   "metadata": {},
   "outputs": [],
   "source": [
    "name_snli_occurence = sorted(name_count.items(), key=(lambda x:x[1]), reverse=True)\n",
    "json.dump(name_snli_occurence, open(\"name_snli_occurence.json\", 'w'))"
   ]
  },
  {
   "cell_type": "code",
   "execution_count": null,
   "id": "32c205cd",
   "metadata": {},
   "outputs": [],
   "source": []
  }
 ],
 "metadata": {
  "kernelspec": {
   "display_name": "Python 3",
   "language": "python",
   "name": "python3"
  },
  "language_info": {
   "codemirror_mode": {
    "name": "ipython",
    "version": 3
   },
   "file_extension": ".py",
   "mimetype": "text/x-python",
   "name": "python",
   "nbconvert_exporter": "python",
   "pygments_lexer": "ipython3",
   "version": "3.8.0"
  }
 },
 "nbformat": 4,
 "nbformat_minor": 5
}
