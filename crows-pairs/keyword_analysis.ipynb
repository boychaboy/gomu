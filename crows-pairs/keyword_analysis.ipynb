{
 "cells": [
  {
   "cell_type": "markdown",
   "metadata": {},
   "source": [
    "# CrowS-Pairs"
   ]
  },
  {
   "cell_type": "code",
   "execution_count": 10,
   "metadata": {},
   "outputs": [],
   "source": [
    "from metric import read_data"
   ]
  },
  {
   "cell_type": "code",
   "execution_count": 11,
   "metadata": {},
   "outputs": [],
   "source": [
    "from nltk.corpus import stopwords\n",
    "from pororo import Pororo"
   ]
  },
  {
   "cell_type": "code",
   "execution_count": 12,
   "metadata": {},
   "outputs": [],
   "source": [
    "crows_data = read_data(\"data/crows_pairs_anonymized.csv\")"
   ]
  },
  {
   "cell_type": "markdown",
   "metadata": {},
   "source": [
    "### Datatypes\n",
    "- crows_data : (df) pandas dataframe of crows pairs data\n",
    "- crows_sent : (dict) dictionary of sentences with keys of bias type\n",
    "- crows_word : (dict) dictionary of words by its count\n",
    "- crows_word_list : (list) list of words ordered by its count"
   ]
  },
  {
   "cell_type": "markdown",
   "metadata": {},
   "source": [
    "### Bias types\n",
    "1. race-color\n",
    "2. gender\n",
    "3. sexual-orientation\n",
    "4. religion\n",
    "5. age\n",
    "6. nationality\n",
    "7. disability\n",
    "8. physical-appearance\n",
    "9. socioeconomic"
   ]
  },
  {
   "cell_type": "markdown",
   "metadata": {},
   "source": [
    "### TODO\n",
    "1. Names\n",
    "    - name total\n",
    "    - name gender\n",
    "    - name race\n",
    "   \n",
    "2. Occupations\n",
    "3. Frequently used adjectives, nouns, and verbs"
   ]
  },
  {
   "cell_type": "code",
   "execution_count": 13,
   "metadata": {},
   "outputs": [
    {
     "data": {
      "text/plain": [
       "524"
      ]
     },
     "execution_count": 13,
     "metadata": {},
     "output_type": "execute_result"
    }
   ],
   "source": [
    "crows_sent = {}\n",
    "for _ , data in crows_data.iterrows():\n",
    "    bias = data['bias_type']\n",
    "    if bias not in crows_sent.keys():\n",
    "        crows_sent[bias] = list()\n",
    "#         print(f\"{bias}\")\n",
    "    crows_sent[bias].append(data['sent1'])\n",
    "    crows_sent[bias].append(data['sent2'])\n",
    "len(crows_sent['gender'])"
   ]
  },
  {
   "cell_type": "code",
   "execution_count": 14,
   "metadata": {},
   "outputs": [],
   "source": [
    "# param : (str) bias type\n",
    "# return : (list) of words in certain bais type in descending order\n",
    "def get_word_list(df_data, bias_type):\n",
    "    counts = dict()\n",
    "    for index, data in df_data.iterrows():\n",
    "        if data['bias_type'] == bias_type:\n",
    "            sent1 = data['sent1']\n",
    "            sent2 = data['sent2']\n",
    "            sent1 = sent1.strip().split()\n",
    "            sent2 = sent2.strip().split()\n",
    "            word_set = set()\n",
    "            for word1, word2 in zip(sent1, sent2):\n",
    "                word_set.add(word1)\n",
    "                word_set.add(word2)\n",
    "            for word in word_set:\n",
    "                counts[word] = counts.get(word,0)+1\n",
    "    word_list = sorted(counts.items(), key=lambda x: x[1], reverse=True)\n",
    "    print(f\"{bias_type} word count : {len(word_list)}\")\n",
    "    return word_list"
   ]
  },
  {
   "cell_type": "code",
   "execution_count": 15,
   "metadata": {},
   "outputs": [],
   "source": [
    "# param : (list) word list to remove stopwords\n",
    "# return : (list) word list with stopwords removed\n",
    "def remove_stopwords(word_list):\n",
    "    sw = stopwords.words('english')\n",
    "    sw.append(\"The\")\n",
    "    sw.append(\"I\")\n",
    "    sw.append(\"A\")\n",
    "    no_stopwords = []\n",
    "    for word in word_list:\n",
    "        if word[0] not in sw:\n",
    "            no_stopwords.append(word)\n",
    "    return no_stopwords"
   ]
  },
  {
   "cell_type": "code",
   "execution_count": 17,
   "metadata": {},
   "outputs": [
    {
     "name": "stderr",
     "output_type": "stream",
     "text": [
      "[nltk_data] Downloading package stopwords to\n",
      "[nltk_data]     /home/boychaboy/nltk_data...\n"
     ]
    },
    {
     "name": "stdout",
     "output_type": "stream",
     "text": [
      "[('white', 207), ('black', 170), ('people', 154), ('He', 150), ('man', 118), ('like', 96), ('would', 95), ('She', 93), ('White', 77), ('American', 77), ('always', 71), ('poor', 67), ('rich', 47), ('could', 47), ('Americans', 47), ('get', 45), ('men', 44), ('young', 41), ('got', 40), ('old', 40)]\n",
      "Word count : 5043\n"
     ]
    },
    {
     "name": "stderr",
     "output_type": "stream",
     "text": [
      "[nltk_data]   Unzipping corpora/stopwords.zip.\n"
     ]
    }
   ],
   "source": [
    "import nltk\n",
    "nltk.download('stopwords')\n",
    "crows_word = {}\n",
    "crows_word = dict()\n",
    "for index, data in crows_data.iterrows():\n",
    "    sent1 = data['sent1']\n",
    "    sent2 = data['sent2']\n",
    "    sent1 = sent1.strip().split()\n",
    "    sent2 = sent2.strip().split()\n",
    "    word_set = set()\n",
    "    for word1, word2 in zip(sent1, sent2):\n",
    "        word_set.add(word1)\n",
    "        word_set.add(word2)\n",
    "    for word in word_set:\n",
    "        crows_word[word] = crows_word.get(word,0)+1\n",
    "crows_word = sorted(crows_word.items(), key=lambda x: x[1], reverse=True)\n",
    "crows_word = remove_stopwords(crows_word)\n",
    "\n",
    "print(crows_word[:20])\n",
    "crows_word_list = [word[0].lower() for word in crows_word]\n",
    "print(f\"Word count : {len(crows_word_list)}\")"
   ]
  },
  {
   "cell_type": "code",
   "execution_count": null,
   "metadata": {},
   "outputs": [],
   "source": [
    "gender_words = remove_stopwords(get_word_list(crows_data, 'gender'))"
   ]
  },
  {
   "cell_type": "markdown",
   "metadata": {},
   "source": [
    "## 1. Names\n",
    "### 1.1 Names in all category"
   ]
  },
  {
   "cell_type": "code",
   "execution_count": null,
   "metadata": {},
   "outputs": [],
   "source": [
    "# param : (list) of words\n",
    "# return : (list) of names in descending order of frequency\n",
    "# def get_names(word_list):\n",
    "ner = Pororo(task=\"ner\", lang=\"en\")"
   ]
  },
  {
   "cell_type": "code",
   "execution_count": null,
   "metadata": {},
   "outputs": [],
   "source": [
    "def get_name_list(sent_list):\n",
    "    name_list = []\n",
    "    for sent in sent_list:\n",
    "        for token in ner(sent):\n",
    "            if token[1] == 'PERSON':\n",
    "                name_list.append(token[0])\n",
    "    return name_list"
   ]
  },
  {
   "cell_type": "code",
   "execution_count": null,
   "metadata": {},
   "outputs": [],
   "source": [
    "name_dict = {}\n",
    "for bias in crows_sent.keys():\n",
    "    for sent in crows_sent[bias]:\n",
    "        for token in ner(sent):\n",
    "            if token[1] == 'PERSON':\n",
    "                if token[0] not in name_dict.keys():\n",
    "                    name_dict[token[0]] = 1\n",
    "                else:\n",
    "                    name_dict[token[0]] += 1"
   ]
  },
  {
   "cell_type": "code",
   "execution_count": null,
   "metadata": {},
   "outputs": [],
   "source": [
    "# sort in descending order\n",
    "name_tuple = sorted(name_dict.items(), key=lambda x: x[1], reverse=True)\n",
    "name_list = [name[0] for name in name_tuple]\n",
    "name_list"
   ]
  },
  {
   "cell_type": "code",
   "execution_count": null,
   "metadata": {},
   "outputs": [],
   "source": [
    "name_dict"
   ]
  },
  {
   "cell_type": "code",
   "execution_count": null,
   "metadata": {},
   "outputs": [],
   "source": [
    "import pandas as pd\n",
    "\n",
    "def save_dict_to_csv(data, filename):\n",
    "    dict_sorted = sorted(data.items(), key=lambda x:x[1], reverse=True)\n",
    "    df = pd.DataFrame(dict_sorted)\n",
    "    df.to_csv(f\"../data/{filename}.csv\", header=False, index=False)\n",
    "    print(f\"file saved in ../data/{filename}.csv\")\n",
    "    return\n",
    "\n",
    "save_dict_to_csv(name_dict, \"crows_name\")\n",
    "# df = pd.DataFrame(name_list)\n",
    "# df.to_csv(\"../data/crows_name.csv\", header=False, index=False)"
   ]
  },
  {
   "cell_type": "markdown",
   "metadata": {},
   "source": [
    "### 1.2 Names in each bias categories"
   ]
  },
  {
   "cell_type": "code",
   "execution_count": null,
   "metadata": {},
   "outputs": [],
   "source": [
    "name_data = {}\n",
    "for _, data in crows_data.iterrows():\n",
    "    bias = data['bias_type']\n",
    "    name1 = None; name2 = None\n",
    "    if bias not in name_data.keys():\n",
    "        name_data[bias] = list()\n",
    "    for token in ner(data['sent1']):\n",
    "        if token[1] == 'PERSON':\n",
    "            name1 = token[0]\n",
    "    for token in ner(data['sent2']):\n",
    "        if token[1] == 'PERSON':\n",
    "            name2 = token[0]\n",
    "    if name1 or name2:\n",
    "        name_data[bias].append((name1, name2))"
   ]
  },
  {
   "cell_type": "code",
   "execution_count": null,
   "metadata": {},
   "outputs": [],
   "source": [
    "# number of pairs in each bias categories\n",
    "for bias in name_data.keys():\n",
    "    print(f\"{bias} : {len(name_data[bias])} pairs\")"
   ]
  },
  {
   "cell_type": "code",
   "execution_count": null,
   "metadata": {},
   "outputs": [],
   "source": [
    "name_data['gender']"
   ]
  },
  {
   "cell_type": "markdown",
   "metadata": {},
   "source": [
    "## 2. Occupations"
   ]
  },
  {
   "cell_type": "markdown",
   "metadata": {},
   "source": [
    "### 2.1 Winogender Occupation\n",
    "- crows_wino_occupation : (list)"
   ]
  },
  {
   "cell_type": "code",
   "execution_count": null,
   "metadata": {},
   "outputs": [],
   "source": [
    "import pandas as pd\n",
    "wino_dir = \"../data/winogender-schemas/data/occupations-stats.tsv\"\n",
    "wino_occupation = pd.read_csv(wino_dir, delimiter='\\t')"
   ]
  },
  {
   "cell_type": "code",
   "execution_count": null,
   "metadata": {
    "scrolled": true
   },
   "outputs": [],
   "source": [
    "wino_occupation_list = list(wino_occupation['occupation'])\n",
    "wino_occupation_list"
   ]
  },
  {
   "cell_type": "code",
   "execution_count": null,
   "metadata": {},
   "outputs": [],
   "source": [
    "occupation_dict = {}\n",
    "for bias in crows_sent.keys():\n",
    "    for sent in crows_sent[bias]:\n",
    "        for word in sent.strip():\n",
    "            if word in wino_occupation_list:\n",
    "                if token[0] not in name_dict.keys():\n",
    "                    occupation_dict[token[0]] = 1\n",
    "                else:\n",
    "                    occupation_dict[token[0]] += 1"
   ]
  },
  {
   "cell_type": "code",
   "execution_count": null,
   "metadata": {},
   "outputs": [],
   "source": [
    "crows_occupation = {}\n",
    "for occupation in wino_occupation_list:\n",
    "    if occupation in crows_word_list:\n",
    "#         crows_occupation.append(occupation)\n",
    "        crows_occupation[occupation] = crows_occupation.get(occupation,0)+1"
   ]
  },
  {
   "cell_type": "code",
   "execution_count": null,
   "metadata": {},
   "outputs": [],
   "source": [
    "crows_wino_occupation = [word for word in crows_occupation]"
   ]
  },
  {
   "cell_type": "markdown",
   "metadata": {},
   "source": [
    "### 2.1 Occupation Total"
   ]
  },
  {
   "cell_type": "code",
   "execution_count": null,
   "metadata": {},
   "outputs": [],
   "source": [
    "occupation_dir = \"../data/occupations.csv\"\n",
    "f = open(occupation_dir, 'r')\n",
    "occupation_df = pd.read_csv(f)"
   ]
  },
  {
   "cell_type": "code",
   "execution_count": null,
   "metadata": {},
   "outputs": [],
   "source": [
    "occupation_list = [occupation.lower() for occupation in list(occupation_df['Occupations'])]"
   ]
  },
  {
   "cell_type": "code",
   "execution_count": null,
   "metadata": {},
   "outputs": [],
   "source": [
    "occupation_list"
   ]
  },
  {
   "cell_type": "code",
   "execution_count": null,
   "metadata": {},
   "outputs": [],
   "source": [
    "crows_occupation = {}\n",
    "for occupation in occupation_list:\n",
    "    if occupation in crows_word_list:\n",
    "#         crows_occupation.append(occupation)\n",
    "        crows_occupation[occupation] = crows_occupation.get(occupation,0)+1"
   ]
  },
  {
   "cell_type": "code",
   "execution_count": null,
   "metadata": {
    "scrolled": true
   },
   "outputs": [],
   "source": [
    "print(len(crows_occupation))\n",
    "crows_occupation = [occ for occ in crows_occupation.keys()]\n",
    "crows_occupation[:10]"
   ]
  },
  {
   "cell_type": "code",
   "execution_count": null,
   "metadata": {},
   "outputs": [],
   "source": [
    "crows_occupation2 = {}\n",
    "for bias in crows_sent.keys():\n",
    "    for sent in crows_sent[bias]:\n",
    "        for occupation in occupation_list:\n",
    "            if occupation in sent:\n",
    "                crows_occupation2[occupation] = crows_occupation2.get(occupation,0)+1"
   ]
  },
  {
   "cell_type": "code",
   "execution_count": null,
   "metadata": {},
   "outputs": [],
   "source": [
    "crows_occupation2 = sorted(crows_occupation2.items(), key=lambda x: x[1], reverse=True)\n",
    "crows_occupation_total = [occ[0] for occ in crows_occupation2]"
   ]
  },
  {
   "cell_type": "code",
   "execution_count": null,
   "metadata": {},
   "outputs": [],
   "source": [
    "df = pd.DataFrame(crows_occupation_total)\n",
    "df.to_csv(\"../data/crows_occupation.csv\", header=False, index=False)"
   ]
  },
  {
   "cell_type": "code",
   "execution_count": null,
   "metadata": {},
   "outputs": [],
   "source": [
    "crows_occupation_total"
   ]
  },
  {
   "cell_type": "markdown",
   "metadata": {},
   "source": [
    "## 3. Frequently used adjectives, nouns, and verbs"
   ]
  },
  {
   "cell_type": "markdown",
   "metadata": {},
   "source": [
    "### 3.1 Total"
   ]
  },
  {
   "cell_type": "code",
   "execution_count": null,
   "metadata": {},
   "outputs": [],
   "source": [
    "from flair.data import Sentence\n",
    "from flair.models import SequenceTagger"
   ]
  },
  {
   "cell_type": "code",
   "execution_count": null,
   "metadata": {},
   "outputs": [],
   "source": [
    "tagger = SequenceTagger.load(\"flair/pos-english\")"
   ]
  },
  {
   "cell_type": "code",
   "execution_count": null,
   "metadata": {},
   "outputs": [],
   "source": [
    "sentence = Sentence(crows_sent['gender'][0])\n",
    "tagger.predict(sentence)\n",
    "sentence.to_tagged_string()"
   ]
  },
  {
   "cell_type": "code",
   "execution_count": null,
   "metadata": {},
   "outputs": [],
   "source": [
    "# for entity in sentence.get_spans('pos'):\n",
    "#     print(entity)\n",
    "sentence.get_spans('pos')[1].tokens[0].text"
   ]
  },
  {
   "cell_type": "code",
   "execution_count": null,
   "metadata": {},
   "outputs": [],
   "source": [
    "NN = dict() #noun\n",
    "VB = dict() #verb\n",
    "JJ = dict() #adjective\n",
    "\n",
    "for bias in crows_sent.keys():\n",
    "    for sent in crows_sent[bias]:\n",
    "        sentence = Sentence(sent)\n",
    "        tagger.predict(sentence)\n",
    "        for word in sentence.get_spans('pos'):\n",
    "            tok = word.tokens[0].text\n",
    "            pos = word.tag\n",
    "            if pos.startswith('NN'):\n",
    "                print(f\"{tok}, {pos}\")\n",
    "                NN[tok] = NN.get(tok,0)+1\n",
    "            elif pos.startswith('VB'):\n",
    "                print(f\"{tok}, {pos}\")\n",
    "                VB[tok] = VB.get(tok,0)+1\n",
    "            elif pos.startswith('JJ'):\n",
    "                print(f\"{tok}, {pos}\")\n",
    "                JJ[tok] = JJ.get(tok,0)+1"
   ]
  },
  {
   "cell_type": "code",
   "execution_count": null,
   "metadata": {},
   "outputs": [],
   "source": [
    "save_dict_to_csv(NN, \"crows_noun\")\n",
    "save_dict_to_csv(VB, \"crows_verb\")\n",
    "save_dict_to_csv(JJ, \"crows_adj\")"
   ]
  },
  {
   "cell_type": "code",
   "execution_count": null,
   "metadata": {},
   "outputs": [],
   "source": [
    "save_to_json(NN, \"crows_noun\")\n",
    "save_to_json(VB, \"crows_noun\")\n",
    "save_to_json(JJ, \"crows_noun\")"
   ]
  },
  {
   "cell_type": "code",
   "execution_count": null,
   "metadata": {},
   "outputs": [],
   "source": [
    "import json\n",
    "\n",
    "def save_to_json(data, filename):\n",
    "    json.dump(data, open(f\"../data/json/{filename}.json\", 'w'))\n",
    "    print(f\"file saved in ../data/json/{filename}.json\")\n",
    "    return "
   ]
  },
  {
   "cell_type": "code",
   "execution_count": null,
   "metadata": {},
   "outputs": [],
   "source": [
    "save_to_json(crows_sent, \"crows_sent\")\n",
    "save_to_json(crows_word, \"crows_word\")"
   ]
  },
  {
   "cell_type": "code",
   "execution_count": null,
   "metadata": {},
   "outputs": [],
   "source": []
  }
 ],
 "metadata": {
  "kernelspec": {
   "display_name": "Python 3",
   "language": "python",
   "name": "python3"
  },
  "language_info": {
   "codemirror_mode": {
    "name": "ipython",
    "version": 3
   },
   "file_extension": ".py",
   "mimetype": "text/x-python",
   "name": "python",
   "nbconvert_exporter": "python",
   "pygments_lexer": "ipython3",
   "version": "3.8.0"
  }
 },
 "nbformat": 4,
 "nbformat_minor": 4
}
