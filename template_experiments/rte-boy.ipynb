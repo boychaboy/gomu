{
 "cells": [
  {
   "cell_type": "code",
   "execution_count": 2,
   "id": "737c2d8d",
   "metadata": {},
   "outputs": [],
   "source": [
    "from transformers import pipeline\n",
    "from transformers import AutoTokenizer, AutoModelForSequenceClassification"
   ]
  },
  {
   "cell_type": "markdown",
   "id": "24735b4a",
   "metadata": {},
   "source": [
    "### bert-base"
   ]
  },
  {
   "cell_type": "code",
   "execution_count": 14,
   "id": "2cf11f84",
   "metadata": {},
   "outputs": [],
   "source": [
    "boy_tokenizer = AutoTokenizer.from_pretrained(\"boychaboy/rte_bert-base\")\n",
    "boy_model = AutoModelForSequenceClassification.from_pretrained(\"boychaboy/rte_bert-base\")\n",
    "rte = pipeline(\n",
    "    \"sentiment-analysis\",\n",
    "    tokenizer=boy_tokenizer,\n",
    "    model=boy_model\n",
    ")"
   ]
  },
  {
   "cell_type": "code",
   "execution_count": 15,
   "id": "7f89766a",
   "metadata": {},
   "outputs": [],
   "source": [
    "tokenizer = AutoTokenizer.from_pretrained(\"textattack/bert-base-uncased-RTE\")\n",
    "model = AutoModelForSequenceClassification.from_pretrained(\"textattack/bert-base-uncased-RTE\")\n",
    "rte = pipeline(\n",
    "    \"sentiment-analysis\",\n",
    "    tokenizer=tokenizer,\n",
    "    model=model\n",
    ")"
   ]
  },
  {
   "cell_type": "code",
   "execution_count": 4,
   "id": "9dd62a97",
   "metadata": {},
   "outputs": [],
   "source": [
    "def load_sentences(filename):\n",
    "    '''\n",
    "    params : name of file\n",
    "    return : list of sentences\n",
    "    '''\n",
    "    f = open(filename)\n",
    "    data = []\n",
    "    for line in f.readlines():\n",
    "        sents = line.strip().split('\\t')\n",
    "        data.append(sents[0].strip()+'[SEP]'+sents[1].strip())\n",
    "    return data"
   ]
  },
  {
   "cell_type": "code",
   "execution_count": 5,
   "id": "5c8a992b",
   "metadata": {},
   "outputs": [],
   "source": [
    "def rte_result(sents, outputs):\n",
    "    id2label = {\n",
    "        'LABEL_0':'entailment',\n",
    "        'LABEL_1':'non-entailment'\n",
    "    }\n",
    "    for s, o in zip(sents, outputs):\n",
    "        s = s.split('[SEP]')\n",
    "        text = s[0]\n",
    "        hypo = s[1]\n",
    "        print(f\"text : {s[0]}\\nhypo : {s[1]}\\n{id2label[o['label']]}({o['score']:.2f})\\n\")"
   ]
  },
  {
   "cell_type": "markdown",
   "id": "7fd1995f",
   "metadata": {},
   "source": [
    "## 1. bert-base-uncased"
   ]
  },
  {
   "cell_type": "markdown",
   "id": "7e31bb5c",
   "metadata": {},
   "source": [
    "### test with a file"
   ]
  },
  {
   "cell_type": "code",
   "execution_count": 18,
   "id": "03a3d03c",
   "metadata": {
    "collapsed": true
   },
   "outputs": [
    {
     "name": "stdout",
     "output_type": "stream",
     "text": [
      "text : This is a test sentence.\n",
      "hypo : This is not a test sentence.\n",
      "entailment(0.72)\n",
      "\n",
      "text : This is a test sentence.\n",
      "hypo : This is not a test sentence.\n",
      "entailment(0.72)\n",
      "\n",
      "text : This is a test sentence.\n",
      "hypo : This is not a test sentence.\n",
      "entailment(0.72)\n",
      "\n",
      "text : This is a test sentence.\n",
      "hypo : This is not a test sentence.\n",
      "entailment(0.72)\n",
      "\n",
      "text : This is a test sentence.\n",
      "hypo : This is not a test sentence.\n",
      "entailment(0.72)\n",
      "\n",
      "text : This is a test sentence.\n",
      "hypo : This is not a test sentence.\n",
      "entailment(0.72)\n",
      "\n",
      "text : This is a test sentence.\n",
      "hypo : This is not a test sentence.\n",
      "entailment(0.72)\n",
      "\n",
      "text : This is a test sentence.\n",
      "hypo : This is not a test sentence.\n",
      "entailment(0.72)\n",
      "\n",
      "text : This is a test sentence.\n",
      "hypo : This is not a test sentence.\n",
      "entailment(0.72)\n",
      "\n",
      "text : This is a test sentence.\n",
      "hypo : This is not a test sentence.\n",
      "entailment(0.72)\n",
      "\n"
     ]
    }
   ],
   "source": [
    "filename = 'rte_sample.txt'\n",
    "\n",
    "sents = load_sentences(filename)\n",
    "outputs = rte(sents)\n",
    "rte_result(sents, outputs)"
   ]
  },
  {
   "cell_type": "markdown",
   "id": "9bed544f",
   "metadata": {},
   "source": [
    "### test with a sentence"
   ]
  },
  {
   "cell_type": "code",
   "execution_count": 13,
   "id": "03179384",
   "metadata": {
    "scrolled": true
   },
   "outputs": [
    {
     "name": "stdout",
     "output_type": "stream",
     "text": [
      "text : This is a test sentence.\n",
      "hypo : This is a broken computer.\n",
      "entailment(0.62)\n",
      "\n"
     ]
    }
   ],
   "source": [
    "text = \"This is a test sentence.\"\n",
    "hypo = \"This is a broken computer.\"\n",
    "\n",
    "sent = [text+'[SEP]'+hypo]\n",
    "rte_result(sent, rte(sent))"
   ]
  },
  {
   "cell_type": "markdown",
   "id": "63a4d170",
   "metadata": {},
   "source": [
    "## 2. roberta-base"
   ]
  },
  {
   "cell_type": "markdown",
   "id": "5bf62539",
   "metadata": {},
   "source": [
    "### test with a file"
   ]
  },
  {
   "cell_type": "code",
   "execution_count": 9,
   "id": "a03b50bb",
   "metadata": {},
   "outputs": [
    {
     "name": "stdout",
     "output_type": "stream",
     "text": [
      "text : This is a test sentence.\n",
      "hypo : This is not a test sentence.\n",
      "non-entailment(0.89)\n",
      "\n",
      "text : This is a test sentence.\n",
      "hypo : This is not a test sentence.\n",
      "non-entailment(0.89)\n",
      "\n",
      "text : This is a test sentence.\n",
      "hypo : This is not a test sentence.\n",
      "non-entailment(0.89)\n",
      "\n",
      "text : This is a test sentence.\n",
      "hypo : This is not a test sentence.\n",
      "non-entailment(0.89)\n",
      "\n",
      "text : This is a test sentence.\n",
      "hypo : This is not a test sentence.\n",
      "non-entailment(0.89)\n",
      "\n",
      "text : This is a test sentence.\n",
      "hypo : This is not a test sentence.\n",
      "non-entailment(0.89)\n",
      "\n",
      "text : This is a test sentence.\n",
      "hypo : This is not a test sentence.\n",
      "non-entailment(0.89)\n",
      "\n",
      "text : This is a test sentence.\n",
      "hypo : This is not a test sentence.\n",
      "non-entailment(0.89)\n",
      "\n",
      "text : This is a test sentence.\n",
      "hypo : This is not a test sentence.\n",
      "non-entailment(0.89)\n",
      "\n",
      "text : This is a test sentence.\n",
      "hypo : This is not a test sentence.\n",
      "non-entailment(0.89)\n",
      "\n"
     ]
    }
   ],
   "source": [
    "filename = 'rte_sample.txt'\n",
    "\n",
    "sents = load_sentences(filename)\n",
    "outputs = rte_roberta(sents)\n",
    "rte_result(sents, outputs)"
   ]
  },
  {
   "cell_type": "markdown",
   "id": "ced1e21c",
   "metadata": {},
   "source": [
    "### test with a sentence"
   ]
  },
  {
   "cell_type": "code",
   "execution_count": 25,
   "id": "bcf2e459",
   "metadata": {},
   "outputs": [
    {
     "name": "stdout",
     "output_type": "stream",
     "text": [
      "text : This is a sentence.\n",
      "hypo : This is not a sentence.\n",
      "non-entailment(0.94)\n",
      "\n"
     ]
    }
   ],
   "source": [
    "text = \"This is a sentence.\"\n",
    "hypo = \"This is not a sentence.\"\n",
    "\n",
    "sent = [text+'[SEP]'+hypo]\n",
    "rte_result(sent, rte_roberta(sent))"
   ]
  },
  {
   "cell_type": "markdown",
   "id": "0dace56c",
   "metadata": {},
   "source": [
    "## 3. distilbert-base"
   ]
  },
  {
   "cell_type": "markdown",
   "id": "9d161b6a",
   "metadata": {},
   "source": [
    "### test with a file"
   ]
  },
  {
   "cell_type": "code",
   "execution_count": 11,
   "id": "5b6b6cd0",
   "metadata": {},
   "outputs": [
    {
     "name": "stdout",
     "output_type": "stream",
     "text": [
      "text : This is a test sentence.\n",
      "hypo : This is not a test sentence.\n",
      "entailment(0.88)\n",
      "\n",
      "text : This is a test sentence.\n",
      "hypo : This is not a test sentence.\n",
      "entailment(0.88)\n",
      "\n",
      "text : This is a test sentence.\n",
      "hypo : This is not a test sentence.\n",
      "entailment(0.88)\n",
      "\n",
      "text : This is a test sentence.\n",
      "hypo : This is not a test sentence.\n",
      "entailment(0.88)\n",
      "\n",
      "text : This is a test sentence.\n",
      "hypo : This is not a test sentence.\n",
      "entailment(0.88)\n",
      "\n",
      "text : This is a test sentence.\n",
      "hypo : This is not a test sentence.\n",
      "entailment(0.88)\n",
      "\n",
      "text : This is a test sentence.\n",
      "hypo : This is not a test sentence.\n",
      "entailment(0.88)\n",
      "\n",
      "text : This is a test sentence.\n",
      "hypo : This is not a test sentence.\n",
      "entailment(0.88)\n",
      "\n",
      "text : This is a test sentence.\n",
      "hypo : This is not a test sentence.\n",
      "entailment(0.88)\n",
      "\n",
      "text : This is a test sentence.\n",
      "hypo : This is not a test sentence.\n",
      "entailment(0.88)\n",
      "\n"
     ]
    }
   ],
   "source": [
    "filename = 'rte_sample.txt'\n",
    "\n",
    "sents = load_sentences(filename)\n",
    "outputs = rte_distilbert(sents)\n",
    "rte_result(sents, outputs)"
   ]
  },
  {
   "cell_type": "markdown",
   "id": "2bb5ea00",
   "metadata": {},
   "source": [
    "### test with a sentence"
   ]
  },
  {
   "cell_type": "code",
   "execution_count": null,
   "id": "ec0086b3",
   "metadata": {},
   "outputs": [],
   "source": [
    "text = \"This is a test sentence.\"\n",
    "hypo = \"This is test.\"\n",
    "\n",
    "sent = [text+'[SEP]'+hypo]\n",
    "rte_result(sent, 3(sent))"
   ]
  },
  {
   "cell_type": "code",
   "execution_count": null,
   "id": "2fd91ad0",
   "metadata": {},
   "outputs": [],
   "source": []
  }
 ],
 "metadata": {
  "kernelspec": {
   "display_name": "Python 3",
   "language": "python",
   "name": "python3"
  },
  "language_info": {
   "codemirror_mode": {
    "name": "ipython",
    "version": 3
   },
   "file_extension": ".py",
   "mimetype": "text/x-python",
   "name": "python",
   "nbconvert_exporter": "python",
   "pygments_lexer": "ipython3",
   "version": "3.8.0"
  }
 },
 "nbformat": 4,
 "nbformat_minor": 5
}
