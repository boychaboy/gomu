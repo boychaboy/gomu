{
 "cells": [
  {
   "cell_type": "markdown",
   "id": "87a6eaa2",
   "metadata": {},
   "source": [
    "# MNLI"
   ]
  },
  {
   "cell_type": "code",
   "execution_count": 2,
   "id": "737c2d8d",
   "metadata": {},
   "outputs": [],
   "source": [
    "from transformers import pipeline\n",
    "from transformers import AutoTokenizer, AutoModelForSequenceClassification"
   ]
  },
  {
   "cell_type": "markdown",
   "id": "24735b4a",
   "metadata": {},
   "source": [
    "### bert-base"
   ]
  },
  {
   "cell_type": "code",
   "execution_count": 3,
   "id": "2cf11f84",
   "metadata": {},
   "outputs": [],
   "source": [
    "tokenizer = AutoTokenizer.from_pretrained(\"textattack/bert-base-uncased-MNLI\")\n",
    "model = AutoModelForSequenceClassification.from_pretrained(\"textattack/bert-base-uncased-MNLI\")\n",
    "mnli = pipeline(\n",
    "    \"sentiment-analysis\",\n",
    "    tokenizer=tokenizer,\n",
    "    model=model\n",
    ")"
   ]
  },
  {
   "cell_type": "code",
   "execution_count": 18,
   "id": "604ae2f5",
   "metadata": {
    "scrolled": true
   },
   "outputs": [],
   "source": [
    "boy_tokenizer = AutoTokenizer.from_pretrained(\"boychaboy/mnli-bert-base\")\n",
    "boy_model = AutoModelForSequenceClassification.from_pretrained(\"boychaboy/mnli-bert-base\")\n",
    "mnli_boy = pipeline(\n",
    "    \"sentiment-analysis\",\n",
    "    tokenizer=boy_tokenizer,\n",
    "    model=boy_model,\n",
    "    return_all_scores=True\n",
    ")"
   ]
  },
  {
   "cell_type": "code",
   "execution_count": 5,
   "id": "9dd62a97",
   "metadata": {},
   "outputs": [],
   "source": [
    "def load_sentences(filename):\n",
    "    '''\n",
    "    params : name of file\n",
    "    return : list of sentences\n",
    "    '''\n",
    "    f = open(filename)\n",
    "    data = []\n",
    "    for line in f.readlines():\n",
    "        sents = line.strip().split('\\t')\n",
    "        data.append(sents[0].strip()+'[SEP]'+sents[1].strip())\n",
    "    return data"
   ]
  },
  {
   "cell_type": "code",
   "execution_count": 6,
   "id": "5c8a992b",
   "metadata": {},
   "outputs": [],
   "source": [
    "def mnli_result(sents, outputs):\n",
    "    id2label = {\n",
    "        'LABEL_0':'contradiction',\n",
    "        'LABEL_1':'neutral',\n",
    "        'LABEL_2':'entailment'\n",
    "    }\n",
    "    for s, o in zip(sents, outputs):\n",
    "        s = s.split('[SEP]')\n",
    "        text = s[0]\n",
    "        hypo = s[1]\n",
    "        print(f\"text : {s[0]}\\nhypo : {s[1]}\\n{id2label[o['label']]}({o['score']:.2f})\\n\")"
   ]
  },
  {
   "cell_type": "markdown",
   "id": "b26e042d",
   "metadata": {},
   "source": [
    "## 1. bert-base-uncased"
   ]
  },
  {
   "cell_type": "markdown",
   "id": "7e31bb5c",
   "metadata": {},
   "source": [
    "### test with a file"
   ]
  },
  {
   "cell_type": "code",
   "execution_count": 7,
   "id": "03a3d03c",
   "metadata": {},
   "outputs": [
    {
     "name": "stdout",
     "output_type": "stream",
     "text": [
      "text : This is a test sentence.\n",
      "hypo : This is not a test sentence.\n",
      "neutral(0.69)\n",
      "\n",
      "text : This is a test sentence.\n",
      "hypo : This is not a test sentence.\n",
      "neutral(0.69)\n",
      "\n",
      "text : This is a test sentence.\n",
      "hypo : This is not a test sentence.\n",
      "neutral(0.69)\n",
      "\n",
      "text : This is a test sentence.\n",
      "hypo : This is not a test sentence.\n",
      "neutral(0.69)\n",
      "\n",
      "text : This is a test sentence.\n",
      "hypo : This is not a test sentence.\n",
      "neutral(0.69)\n",
      "\n",
      "text : This is a test sentence.\n",
      "hypo : This is not a test sentence.\n",
      "neutral(0.69)\n",
      "\n",
      "text : This is a test sentence.\n",
      "hypo : This is not a test sentence.\n",
      "neutral(0.69)\n",
      "\n",
      "text : This is a test sentence.\n",
      "hypo : This is not a test sentence.\n",
      "neutral(0.69)\n",
      "\n",
      "text : This is a test sentence.\n",
      "hypo : This is not a test sentence.\n",
      "neutral(0.69)\n",
      "\n",
      "text : This is a test sentence.\n",
      "hypo : This is not a test sentence.\n",
      "neutral(0.69)\n",
      "\n"
     ]
    }
   ],
   "source": [
    "filename = 'mnli_sample.txt'\n",
    "\n",
    "sents = load_sentences(filename)\n",
    "outputs = mnli(sents)\n",
    "mnli_result(sents, outputs)"
   ]
  },
  {
   "cell_type": "markdown",
   "id": "9bed544f",
   "metadata": {},
   "source": [
    "### test with a sentence"
   ]
  },
  {
   "cell_type": "code",
   "execution_count": 8,
   "id": "03179384",
   "metadata": {
    "scrolled": true
   },
   "outputs": [
    {
     "name": "stdout",
     "output_type": "stream",
     "text": [
      "text : This is a test sentence.\n",
      "hypo : This is test.\n",
      "neutral(0.72)\n",
      "\n"
     ]
    }
   ],
   "source": [
    "text = \"This is a test sentence.\"\n",
    "hypo = \"This is test.\"\n",
    "\n",
    "sent = [text+'[SEP]'+hypo]\n",
    "mnli_result(sent, mnli(sent))"
   ]
  },
  {
   "cell_type": "markdown",
   "id": "b72dc5cd",
   "metadata": {},
   "source": [
    "## 2. boy"
   ]
  },
  {
   "cell_type": "markdown",
   "id": "108cdbe2",
   "metadata": {},
   "source": [
    "### test with a file"
   ]
  },
  {
   "cell_type": "code",
   "execution_count": 12,
   "id": "2a307288",
   "metadata": {},
   "outputs": [
    {
     "data": {
      "text/plain": [
       "[{'label': 'CONTRADICTION', 'score': 0.5503546595573425},\n",
       " {'label': 'CONTRADICTION', 'score': 0.5503546595573425},\n",
       " {'label': 'CONTRADICTION', 'score': 0.5503546595573425},\n",
       " {'label': 'CONTRADICTION', 'score': 0.5503546595573425},\n",
       " {'label': 'CONTRADICTION', 'score': 0.5503546595573425},\n",
       " {'label': 'CONTRADICTION', 'score': 0.5503546595573425},\n",
       " {'label': 'CONTRADICTION', 'score': 0.5503546595573425},\n",
       " {'label': 'CONTRADICTION', 'score': 0.5503546595573425},\n",
       " {'label': 'CONTRADICTION', 'score': 0.5503546595573425},\n",
       " {'label': 'CONTRADICTION', 'score': 0.5503546595573425}]"
      ]
     },
     "execution_count": 12,
     "metadata": {},
     "output_type": "execute_result"
    }
   ],
   "source": [
    "filename = 'mnli_sample.txt'\n",
    "\n",
    "sents = load_sentences(filename)\n",
    "outputs = mnli_boy(sents)\n",
    "outputs"
   ]
  },
  {
   "cell_type": "markdown",
   "id": "062cae24",
   "metadata": {},
   "source": [
    "### test with a sentence"
   ]
  },
  {
   "cell_type": "code",
   "execution_count": 19,
   "id": "54849e87",
   "metadata": {},
   "outputs": [
    {
     "data": {
      "text/plain": [
       "(['This is a sentence.[SEP]This is a sentence.'],\n",
       " [[{'label': 'CONTRADICTION', 'score': 0.09883158653974533},\n",
       "   {'label': 'NEUTRAL', 'score': 0.7844945788383484},\n",
       "   {'label': 'ENTAILMENT', 'score': 0.11667385697364807}]])"
      ]
     },
     "execution_count": 19,
     "metadata": {},
     "output_type": "execute_result"
    }
   ],
   "source": [
    "text = \"This is a sentence.\"\n",
    "hypo = \"This is a sentence.\"\n",
    "\n",
    "sent = [text+'[SEP]'+hypo]\n",
    "sent, mnli_boy(sent)"
   ]
  },
  {
   "cell_type": "code",
   "execution_count": null,
   "id": "628260d8",
   "metadata": {},
   "outputs": [],
   "source": []
  }
 ],
 "metadata": {
  "kernelspec": {
   "display_name": "Python 3",
   "language": "python",
   "name": "python3"
  },
  "language_info": {
   "codemirror_mode": {
    "name": "ipython",
    "version": 3
   },
   "file_extension": ".py",
   "mimetype": "text/x-python",
   "name": "python",
   "nbconvert_exporter": "python",
   "pygments_lexer": "ipython3",
   "version": "3.8.0"
  }
 },
 "nbformat": 4,
 "nbformat_minor": 5
}
