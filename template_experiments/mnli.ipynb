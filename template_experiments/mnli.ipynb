{
 "cells": [
  {
   "cell_type": "markdown",
   "id": "87a6eaa2",
   "metadata": {},
   "source": [
    "# MNLI"
   ]
  },
  {
   "cell_type": "code",
   "execution_count": 1,
   "id": "737c2d8d",
   "metadata": {},
   "outputs": [],
   "source": [
    "from transformers import pipeline\n",
    "from transformers import AutoTokenizer, AutoModelForSequenceClassification"
   ]
  },
  {
   "cell_type": "markdown",
   "id": "24735b4a",
   "metadata": {},
   "source": [
    "### bert-base"
   ]
  },
  {
   "cell_type": "code",
   "execution_count": 2,
   "id": "2cf11f84",
   "metadata": {
    "collapsed": true
   },
   "outputs": [
    {
     "data": {
      "application/vnd.jupyter.widget-view+json": {
       "model_id": "c0e1b8c603db46a1a7463a5ee1d8a984",
       "version_major": 2,
       "version_minor": 0
      },
      "text/plain": [
       "HBox(children=(FloatProgress(value=0.0, description='Downloading', max=630.0, style=ProgressStyle(description_…"
      ]
     },
     "metadata": {},
     "output_type": "display_data"
    },
    {
     "name": "stdout",
     "output_type": "stream",
     "text": [
      "\n"
     ]
    },
    {
     "data": {
      "application/vnd.jupyter.widget-view+json": {
       "model_id": "345c8604a4164ab587dfebc762b7a8d5",
       "version_major": 2,
       "version_minor": 0
      },
      "text/plain": [
       "HBox(children=(FloatProgress(value=0.0, description='Downloading', max=231508.0, style=ProgressStyle(descripti…"
      ]
     },
     "metadata": {},
     "output_type": "display_data"
    },
    {
     "name": "stdout",
     "output_type": "stream",
     "text": [
      "\n"
     ]
    },
    {
     "data": {
      "application/vnd.jupyter.widget-view+json": {
       "model_id": "1e73cfe8f16c4d33ba0807730d8c80ba",
       "version_major": 2,
       "version_minor": 0
      },
      "text/plain": [
       "HBox(children=(FloatProgress(value=0.0, description='Downloading', max=112.0, style=ProgressStyle(description_…"
      ]
     },
     "metadata": {},
     "output_type": "display_data"
    },
    {
     "name": "stdout",
     "output_type": "stream",
     "text": [
      "\n"
     ]
    },
    {
     "data": {
      "application/vnd.jupyter.widget-view+json": {
       "model_id": "7f113317433b439bb578f36ec3f9397d",
       "version_major": 2,
       "version_minor": 0
      },
      "text/plain": [
       "HBox(children=(FloatProgress(value=0.0, description='Downloading', max=48.0, style=ProgressStyle(description_w…"
      ]
     },
     "metadata": {},
     "output_type": "display_data"
    },
    {
     "name": "stdout",
     "output_type": "stream",
     "text": [
      "\n"
     ]
    },
    {
     "data": {
      "application/vnd.jupyter.widget-view+json": {
       "model_id": "aa2644caf4cc4bc4911cdcd2beda54ca",
       "version_major": 2,
       "version_minor": 0
      },
      "text/plain": [
       "HBox(children=(FloatProgress(value=0.0, description='Downloading', max=437988463.0, style=ProgressStyle(descri…"
      ]
     },
     "metadata": {},
     "output_type": "display_data"
    },
    {
     "name": "stdout",
     "output_type": "stream",
     "text": [
      "\n"
     ]
    }
   ],
   "source": [
    "tokenizer = AutoTokenizer.from_pretrained(\"textattack/bert-base-uncased-MNLI\")\n",
    "model = AutoModelForSequenceClassification.from_pretrained(\"textattack/bert-base-uncased-MNLI\")\n",
    "mnli = pipeline(\n",
    "    \"sentiment-analysis\",\n",
    "    tokenizer=tokenizer,\n",
    "    model=model\n",
    ")"
   ]
  },
  {
   "cell_type": "markdown",
   "id": "ad75f2d7",
   "metadata": {},
   "source": [
    "### roberta-base"
   ]
  },
  {
   "cell_type": "code",
   "execution_count": 3,
   "id": "03ed8af4",
   "metadata": {
    "collapsed": true
   },
   "outputs": [
    {
     "data": {
      "application/vnd.jupyter.widget-view+json": {
       "model_id": "fa7350279feb423cbb1d889c7093837b",
       "version_major": 2,
       "version_minor": 0
      },
      "text/plain": [
       "HBox(children=(FloatProgress(value=0.0, description='Downloading', max=678.0, style=ProgressStyle(description_…"
      ]
     },
     "metadata": {},
     "output_type": "display_data"
    },
    {
     "name": "stdout",
     "output_type": "stream",
     "text": [
      "\n"
     ]
    },
    {
     "data": {
      "application/vnd.jupyter.widget-view+json": {
       "model_id": "53bb19221f9a46d3ac1aa26135ab16cf",
       "version_major": 2,
       "version_minor": 0
      },
      "text/plain": [
       "HBox(children=(FloatProgress(value=0.0, description='Downloading', max=898822.0, style=ProgressStyle(descripti…"
      ]
     },
     "metadata": {},
     "output_type": "display_data"
    },
    {
     "name": "stdout",
     "output_type": "stream",
     "text": [
      "\n"
     ]
    },
    {
     "data": {
      "application/vnd.jupyter.widget-view+json": {
       "model_id": "033d0ea274f44176ae04af287428d0cb",
       "version_major": 2,
       "version_minor": 0
      },
      "text/plain": [
       "HBox(children=(FloatProgress(value=0.0, description='Downloading', max=456318.0, style=ProgressStyle(descripti…"
      ]
     },
     "metadata": {},
     "output_type": "display_data"
    },
    {
     "name": "stdout",
     "output_type": "stream",
     "text": [
      "\n"
     ]
    },
    {
     "data": {
      "application/vnd.jupyter.widget-view+json": {
       "model_id": "3a0e6059ea0b445398ca83469022a42f",
       "version_major": 2,
       "version_minor": 0
      },
      "text/plain": [
       "HBox(children=(FloatProgress(value=0.0, description='Downloading', max=150.0, style=ProgressStyle(description_…"
      ]
     },
     "metadata": {},
     "output_type": "display_data"
    },
    {
     "name": "stdout",
     "output_type": "stream",
     "text": [
      "\n"
     ]
    },
    {
     "data": {
      "application/vnd.jupyter.widget-view+json": {
       "model_id": "272eac11764243baaed77e581b012905",
       "version_major": 2,
       "version_minor": 0
      },
      "text/plain": [
       "HBox(children=(FloatProgress(value=0.0, description='Downloading', max=25.0, style=ProgressStyle(description_w…"
      ]
     },
     "metadata": {},
     "output_type": "display_data"
    },
    {
     "name": "stdout",
     "output_type": "stream",
     "text": [
      "\n"
     ]
    },
    {
     "data": {
      "application/vnd.jupyter.widget-view+json": {
       "model_id": "a91377b0041543f8acb12f78d2c97c71",
       "version_major": 2,
       "version_minor": 0
      },
      "text/plain": [
       "HBox(children=(FloatProgress(value=0.0, description='Downloading', max=501006086.0, style=ProgressStyle(descri…"
      ]
     },
     "metadata": {},
     "output_type": "display_data"
    },
    {
     "name": "stdout",
     "output_type": "stream",
     "text": [
      "\n"
     ]
    },
    {
     "name": "stderr",
     "output_type": "stream",
     "text": [
      "Some weights of the model checkpoint at textattack/roberta-base-MNLI were not used when initializing RobertaForSequenceClassification: ['roberta.pooler.dense.weight', 'roberta.pooler.dense.bias']\n",
      "- This IS expected if you are initializing RobertaForSequenceClassification from the checkpoint of a model trained on another task or with another architecture (e.g. initializing a BertForSequenceClassification model from a BertForPreTraining model).\n",
      "- This IS NOT expected if you are initializing RobertaForSequenceClassification from the checkpoint of a model that you expect to be exactly identical (initializing a BertForSequenceClassification model from a BertForSequenceClassification model).\n"
     ]
    }
   ],
   "source": [
    "roberta_tokenizer = AutoTokenizer.from_pretrained(\"textattack/roberta-base-MNLI\")\n",
    "roberta_model = AutoModelForSequenceClassification.from_pretrained(\"textattack/roberta-base-MNLI\")\n",
    "mnli_roberta = pipeline(\n",
    "    \"sentiment-analysis\",\n",
    "    tokenizer=roberta_tokenizer,\n",
    "    model=roberta_model\n",
    ")"
   ]
  },
  {
   "cell_type": "markdown",
   "id": "556f608a",
   "metadata": {},
   "source": [
    "### distilbert-base"
   ]
  },
  {
   "cell_type": "code",
   "execution_count": 4,
   "id": "604ae2f5",
   "metadata": {
    "collapsed": true
   },
   "outputs": [
    {
     "data": {
      "application/vnd.jupyter.widget-view+json": {
       "model_id": "3c6726091e414396aff7bea572562f38",
       "version_major": 2,
       "version_minor": 0
      },
      "text/plain": [
       "HBox(children=(FloatProgress(value=0.0, description='Downloading', max=639.0, style=ProgressStyle(description_…"
      ]
     },
     "metadata": {},
     "output_type": "display_data"
    },
    {
     "name": "stdout",
     "output_type": "stream",
     "text": [
      "\n"
     ]
    },
    {
     "data": {
      "application/vnd.jupyter.widget-view+json": {
       "model_id": "3aec7582bd04425d98edcd1055841c14",
       "version_major": 2,
       "version_minor": 0
      },
      "text/plain": [
       "HBox(children=(FloatProgress(value=0.0, description='Downloading', max=231508.0, style=ProgressStyle(descripti…"
      ]
     },
     "metadata": {},
     "output_type": "display_data"
    },
    {
     "name": "stdout",
     "output_type": "stream",
     "text": [
      "\n"
     ]
    },
    {
     "data": {
      "application/vnd.jupyter.widget-view+json": {
       "model_id": "2109d7a549fc4c188164f4016eefe0f3",
       "version_major": 2,
       "version_minor": 0
      },
      "text/plain": [
       "HBox(children=(FloatProgress(value=0.0, description='Downloading', max=112.0, style=ProgressStyle(description_…"
      ]
     },
     "metadata": {},
     "output_type": "display_data"
    },
    {
     "name": "stdout",
     "output_type": "stream",
     "text": [
      "\n"
     ]
    },
    {
     "data": {
      "application/vnd.jupyter.widget-view+json": {
       "model_id": "cf99e09395d64f7e8824ee2a8a7b3174",
       "version_major": 2,
       "version_minor": 0
      },
      "text/plain": [
       "HBox(children=(FloatProgress(value=0.0, description='Downloading', max=48.0, style=ProgressStyle(description_w…"
      ]
     },
     "metadata": {},
     "output_type": "display_data"
    },
    {
     "name": "stdout",
     "output_type": "stream",
     "text": [
      "\n"
     ]
    },
    {
     "data": {
      "application/vnd.jupyter.widget-view+json": {
       "model_id": "3e2d3be21c7d40fbb4ca7d3c836a7a97",
       "version_major": 2,
       "version_minor": 0
      },
      "text/plain": [
       "HBox(children=(FloatProgress(value=0.0, description='Downloading', max=267848226.0, style=ProgressStyle(descri…"
      ]
     },
     "metadata": {},
     "output_type": "display_data"
    },
    {
     "name": "stdout",
     "output_type": "stream",
     "text": [
      "\n"
     ]
    }
   ],
   "source": [
    "distilbert_tokenizer = AutoTokenizer.from_pretrained(\"textattack/distilbert-base-uncased-MNLI\")\n",
    "distilbert_model = AutoModelForSequenceClassification.from_pretrained(\"textattack/distilbert-base-uncased-MNLI\")\n",
    "mnli_distilbert = pipeline(\n",
    "    \"sentiment-analysis\",\n",
    "    tokenizer=distilbert_tokenizer,\n",
    "    model=distilbert_model\n",
    ")"
   ]
  },
  {
   "cell_type": "code",
   "execution_count": 5,
   "id": "9dd62a97",
   "metadata": {},
   "outputs": [],
   "source": [
    "def load_sentences(filename):\n",
    "    '''\n",
    "    params : name of file\n",
    "    return : list of sentences\n",
    "    '''\n",
    "    f = open(filename)\n",
    "    data = []\n",
    "    for line in f.readlines():\n",
    "        sents = line.strip().split('\\t')\n",
    "        data.append(sents[0].strip()+'[SEP]'+sents[1].strip())\n",
    "    return data"
   ]
  },
  {
   "cell_type": "code",
   "execution_count": 6,
   "id": "5c8a992b",
   "metadata": {},
   "outputs": [],
   "source": [
    "def mnli_result(sents, outputs):\n",
    "    id2label = {\n",
    "        'LABEL_0':'contradiction',\n",
    "        'LABEL_1':'neutral',\n",
    "        'LABEL_2':'entailment'\n",
    "    }\n",
    "    for s, o in zip(sents, outputs):\n",
    "        s = s.split('[SEP]')\n",
    "        text = s[0]\n",
    "        hypo = s[1]\n",
    "        print(f\"text : {s[0]}\\nhypo : {s[1]}\\n{id2label[o['label']]}({o['score']:.2f})\\n\")"
   ]
  },
  {
   "cell_type": "markdown",
   "id": "b26e042d",
   "metadata": {},
   "source": [
    "## 1. bert-base-uncased"
   ]
  },
  {
   "cell_type": "markdown",
   "id": "7e31bb5c",
   "metadata": {},
   "source": [
    "### test with a file"
   ]
  },
  {
   "cell_type": "code",
   "execution_count": 7,
   "id": "03a3d03c",
   "metadata": {},
   "outputs": [
    {
     "name": "stdout",
     "output_type": "stream",
     "text": [
      "text : This is a test sentence.\n",
      "hypo : This is not a test sentence.\n",
      "neutral(0.69)\n",
      "\n",
      "text : This is a test sentence.\n",
      "hypo : This is not a test sentence.\n",
      "neutral(0.69)\n",
      "\n",
      "text : This is a test sentence.\n",
      "hypo : This is not a test sentence.\n",
      "neutral(0.69)\n",
      "\n",
      "text : This is a test sentence.\n",
      "hypo : This is not a test sentence.\n",
      "neutral(0.69)\n",
      "\n",
      "text : This is a test sentence.\n",
      "hypo : This is not a test sentence.\n",
      "neutral(0.69)\n",
      "\n",
      "text : This is a test sentence.\n",
      "hypo : This is not a test sentence.\n",
      "neutral(0.69)\n",
      "\n",
      "text : This is a test sentence.\n",
      "hypo : This is not a test sentence.\n",
      "neutral(0.69)\n",
      "\n",
      "text : This is a test sentence.\n",
      "hypo : This is not a test sentence.\n",
      "neutral(0.69)\n",
      "\n",
      "text : This is a test sentence.\n",
      "hypo : This is not a test sentence.\n",
      "neutral(0.69)\n",
      "\n",
      "text : This is a test sentence.\n",
      "hypo : This is not a test sentence.\n",
      "neutral(0.69)\n",
      "\n"
     ]
    }
   ],
   "source": [
    "filename = 'mnli_sample.txt'\n",
    "\n",
    "sents = load_sentences(filename)\n",
    "outputs = mnli(sents)\n",
    "mnli_result(sents, outputs)"
   ]
  },
  {
   "cell_type": "markdown",
   "id": "9bed544f",
   "metadata": {},
   "source": [
    "### test with a sentence"
   ]
  },
  {
   "cell_type": "code",
   "execution_count": 8,
   "id": "03179384",
   "metadata": {
    "scrolled": true
   },
   "outputs": [
    {
     "name": "stdout",
     "output_type": "stream",
     "text": [
      "text : This is a test sentence.\n",
      "hypo : This is test.\n",
      "neutral(0.72)\n",
      "\n"
     ]
    }
   ],
   "source": [
    "text = \"This is a test sentence.\"\n",
    "hypo = \"This is test.\"\n",
    "\n",
    "sent = [text+'[SEP]'+hypo]\n",
    "mnli_result(sent, mnli(sent))"
   ]
  },
  {
   "cell_type": "markdown",
   "id": "b72dc5cd",
   "metadata": {},
   "source": [
    "## 2. roberta-base"
   ]
  },
  {
   "cell_type": "markdown",
   "id": "108cdbe2",
   "metadata": {},
   "source": [
    "### test with a file"
   ]
  },
  {
   "cell_type": "code",
   "execution_count": 9,
   "id": "2a307288",
   "metadata": {},
   "outputs": [
    {
     "name": "stdout",
     "output_type": "stream",
     "text": [
      "text : This is a test sentence.\n",
      "hypo : This is not a test sentence.\n",
      "contradiction(1.00)\n",
      "\n",
      "text : This is a test sentence.\n",
      "hypo : This is not a test sentence.\n",
      "contradiction(1.00)\n",
      "\n",
      "text : This is a test sentence.\n",
      "hypo : This is not a test sentence.\n",
      "contradiction(1.00)\n",
      "\n",
      "text : This is a test sentence.\n",
      "hypo : This is not a test sentence.\n",
      "contradiction(1.00)\n",
      "\n",
      "text : This is a test sentence.\n",
      "hypo : This is not a test sentence.\n",
      "contradiction(1.00)\n",
      "\n",
      "text : This is a test sentence.\n",
      "hypo : This is not a test sentence.\n",
      "contradiction(1.00)\n",
      "\n",
      "text : This is a test sentence.\n",
      "hypo : This is not a test sentence.\n",
      "contradiction(1.00)\n",
      "\n",
      "text : This is a test sentence.\n",
      "hypo : This is not a test sentence.\n",
      "contradiction(1.00)\n",
      "\n",
      "text : This is a test sentence.\n",
      "hypo : This is not a test sentence.\n",
      "contradiction(1.00)\n",
      "\n",
      "text : This is a test sentence.\n",
      "hypo : This is not a test sentence.\n",
      "contradiction(1.00)\n",
      "\n"
     ]
    }
   ],
   "source": [
    "filename = 'mnli_sample.txt'\n",
    "\n",
    "sents = load_sentences(filename)\n",
    "outputs = mnli_roberta(sents)\n",
    "mnli_result(sents, outputs)"
   ]
  },
  {
   "cell_type": "markdown",
   "id": "062cae24",
   "metadata": {},
   "source": [
    "### test with a sentence"
   ]
  },
  {
   "cell_type": "code",
   "execution_count": 10,
   "id": "54849e87",
   "metadata": {},
   "outputs": [
    {
     "name": "stdout",
     "output_type": "stream",
     "text": [
      "text : This is a test sentence.\n",
      "hypo : This is test.\n",
      "entailment(0.98)\n",
      "\n"
     ]
    }
   ],
   "source": [
    "text = \"This is a test sentence.\"\n",
    "hypo = \"This is test.\"\n",
    "\n",
    "sent = [text+'[SEP]'+hypo]\n",
    "mnli_result(sent, mnli_roberta(sent))"
   ]
  },
  {
   "cell_type": "code",
   "execution_count": null,
   "id": "628260d8",
   "metadata": {},
   "outputs": [],
   "source": []
  }
 ],
 "metadata": {
  "kernelspec": {
   "display_name": "Python 3",
   "language": "python",
   "name": "python3"
  },
  "language_info": {
   "codemirror_mode": {
    "name": "ipython",
    "version": 3
   },
   "file_extension": ".py",
   "mimetype": "text/x-python",
   "name": "python",
   "nbconvert_exporter": "python",
   "pygments_lexer": "ipython3",
   "version": "3.8.0"
  }
 },
 "nbformat": 4,
 "nbformat_minor": 5
}
