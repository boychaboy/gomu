{
 "cells": [
  {
   "cell_type": "markdown",
   "id": "ad336b2e",
   "metadata": {},
   "source": [
    "# 🍇 MNLI Templates"
   ]
  },
  {
   "cell_type": "markdown",
   "id": "ad62b28a",
   "metadata": {},
   "source": [
    "### 1. Functions\n",
    "### 2. Models\n",
    "- bert-base-cased\n",
    "- roberta-base\n",
    "- roberta-large\n",
    "\n",
    "### 3. Templates\n",
    "- Type 1 a~e\n",
    "- Type 2 a~e\n",
    "- Type 3\n",
    "- Type 4"
   ]
  },
  {
   "cell_type": "markdown",
   "id": "ddcb90b7",
   "metadata": {},
   "source": [
    "## 1. Functions"
   ]
  },
  {
   "cell_type": "code",
   "execution_count": 1,
   "id": "ad8f1fdd",
   "metadata": {},
   "outputs": [],
   "source": [
    "from transformers import pipeline\n",
    "from transformers import AutoTokenizer, AutoModelForSequenceClassification\n",
    "import pandas as pd\n",
    "import random"
   ]
  },
  {
   "cell_type": "code",
   "execution_count": 2,
   "id": "04688a73",
   "metadata": {},
   "outputs": [],
   "source": [
    "name_df = pd.read_csv(\"names.csv\")\n",
    "occupations = pd.read_csv(\"occupations.csv\")['0'].tolist() # list"
   ]
  },
  {
   "cell_type": "code",
   "execution_count": 3,
   "id": "e5e777ee",
   "metadata": {},
   "outputs": [
    {
     "data": {
      "text/html": [
       "<div>\n",
       "<style scoped>\n",
       "    .dataframe tbody tr th:only-of-type {\n",
       "        vertical-align: middle;\n",
       "    }\n",
       "\n",
       "    .dataframe tbody tr th {\n",
       "        vertical-align: top;\n",
       "    }\n",
       "\n",
       "    .dataframe thead th {\n",
       "        text-align: right;\n",
       "    }\n",
       "</style>\n",
       "<table border=\"1\" class=\"dataframe\">\n",
       "  <thead>\n",
       "    <tr style=\"text-align: right;\">\n",
       "      <th></th>\n",
       "      <th>name</th>\n",
       "      <th>gender</th>\n",
       "      <th>race</th>\n",
       "    </tr>\n",
       "  </thead>\n",
       "  <tbody>\n",
       "    <tr>\n",
       "      <th>0</th>\n",
       "      <td>A'deem</td>\n",
       "      <td>male</td>\n",
       "      <td>none</td>\n",
       "    </tr>\n",
       "    <tr>\n",
       "      <th>1</th>\n",
       "      <td>Aaron</td>\n",
       "      <td>male</td>\n",
       "      <td>none</td>\n",
       "    </tr>\n",
       "    <tr>\n",
       "      <th>2</th>\n",
       "      <td>Abigail</td>\n",
       "      <td>female</td>\n",
       "      <td>white</td>\n",
       "    </tr>\n",
       "    <tr>\n",
       "      <th>3</th>\n",
       "      <td>Adam</td>\n",
       "      <td>male</td>\n",
       "      <td>none</td>\n",
       "    </tr>\n",
       "    <tr>\n",
       "      <th>4</th>\n",
       "      <td>Adrin</td>\n",
       "      <td>male</td>\n",
       "      <td>latinx</td>\n",
       "    </tr>\n",
       "    <tr>\n",
       "      <th>...</th>\n",
       "      <td>...</td>\n",
       "      <td>...</td>\n",
       "      <td>...</td>\n",
       "    </tr>\n",
       "    <tr>\n",
       "      <th>359</th>\n",
       "      <td>Wong Chang</td>\n",
       "      <td>none</td>\n",
       "      <td>asian</td>\n",
       "    </tr>\n",
       "    <tr>\n",
       "      <th>360</th>\n",
       "      <td>Wright</td>\n",
       "      <td>none</td>\n",
       "      <td>black</td>\n",
       "    </tr>\n",
       "    <tr>\n",
       "      <th>361</th>\n",
       "      <td>Yang Wang</td>\n",
       "      <td>none</td>\n",
       "      <td>asian</td>\n",
       "    </tr>\n",
       "    <tr>\n",
       "      <th>362</th>\n",
       "      <td>Yolanda</td>\n",
       "      <td>female</td>\n",
       "      <td>none</td>\n",
       "    </tr>\n",
       "    <tr>\n",
       "      <th>363</th>\n",
       "      <td>Zack</td>\n",
       "      <td>male</td>\n",
       "      <td>none</td>\n",
       "    </tr>\n",
       "  </tbody>\n",
       "</table>\n",
       "<p>364 rows × 3 columns</p>\n",
       "</div>"
      ],
      "text/plain": [
       "           name  gender    race\n",
       "0        A'deem    male    none\n",
       "1         Aaron    male    none\n",
       "2       Abigail  female   white\n",
       "3          Adam    male    none\n",
       "4         Adrin    male  latinx\n",
       "..          ...     ...     ...\n",
       "359  Wong Chang    none   asian\n",
       "360      Wright    none   black\n",
       "361   Yang Wang    none   asian\n",
       "362     Yolanda  female    none\n",
       "363        Zack    male    none\n",
       "\n",
       "[364 rows x 3 columns]"
      ]
     },
     "execution_count": 3,
     "metadata": {},
     "output_type": "execute_result"
    }
   ],
   "source": [
    "name_df"
   ]
  },
  {
   "cell_type": "code",
   "execution_count": 4,
   "id": "87a4945a",
   "metadata": {},
   "outputs": [
    {
     "data": {
      "text/plain": [
       "['academic', 'accountant', 'actor', 'administrator', 'aeronautical engineer']"
      ]
     },
     "execution_count": 4,
     "metadata": {},
     "output_type": "execute_result"
    }
   ],
   "source": [
    "occupations[:5]"
   ]
  },
  {
   "cell_type": "code",
   "execution_count": 5,
   "id": "55b2b501",
   "metadata": {},
   "outputs": [
    {
     "name": "stderr",
     "output_type": "stream",
     "text": [
      "IOPub data rate exceeded.\n",
      "The notebook server will temporarily stop sending output\n",
      "to the client in order to avoid crashing it.\n",
      "To change this limit, set the config variable\n",
      "`--NotebookApp.iopub_data_rate_limit`.\n",
      "\n",
      "Current values:\n",
      "NotebookApp.iopub_data_rate_limit=1.0 (bytes/sec)\n",
      "NotebookApp.rate_limit_window=3.0 (secs)\n",
      "\n"
     ]
    }
   ],
   "source": [
    "is_male = name_df['gender'] == 'male'\n",
    "is_female = name_df['gender'] == 'female'\n",
    "is_white = name_df['race'] == 'white'\n",
    "is_none = name_df['race'] == 'none'\n",
    "\n",
    "print(f\"Male names : {len(name_df[is_male])}\")\n",
    "print(f\"Female names : {len(name_df[is_female])}\")\n",
    "print(f\"White names : {len(name_df[is_white])}\")\n",
    "print(f\"Non-White names : {len(name_df[~is_white & ~is_none])}\")"
   ]
  },
  {
   "cell_type": "code",
   "execution_count": null,
   "id": "de500147",
   "metadata": {},
   "outputs": [],
   "source": [
    "def generate_template(prem, hypo, name1, name2, occupations, tmpl_cnt=None, seed=None):\n",
    "    sents = []\n",
    "    TAB=\"[SEP]\"\n",
    "    vowels = ('a','e','i','o','u')    \n",
    "    for o in occupations:\n",
    "        if o.lower().startswith(vowels):\n",
    "            article = 'an'\n",
    "        else:\n",
    "            article = 'a'\n",
    "        for n1 in name1:\n",
    "            for n2 in name2:\n",
    "                sent_pair = []\n",
    "                # sent1\n",
    "                prem = prem.format(name1=name1,\n",
    "                                            name2=name2,\n",
    "                                            occupation=o,\n",
    "                                            article=article)\n",
    "                hypo = hypo.format(name=name1,\n",
    "                                           occupation=o,\n",
    "                                           article=article)\n",
    "                sent_pair.append(f\"{prem}{TAB}{hypo}\")            \n",
    "\n",
    "                # sent2\n",
    "                prem = prem.format(name1=name1,\n",
    "                                            name2=name2,\n",
    "                                            occupation=o,\n",
    "                                            article=article)\n",
    "                hypo = hypo.format(name=name2,\n",
    "                                           occupation=o,\n",
    "                                           article=article)\n",
    "                sent_pair.append(f\"{prem}{TAB}{hypo}\")\n",
    "                \n",
    "                sents.append(sent_pair)\n",
    "    if seed:\n",
    "        random.seed(SEED)\n",
    "    random.shuffle(sents)\n",
    "    if templ_cnt:\n",
    "        sents = sents[:tmpl_cnt]\n",
    "    return sents"
   ]
  },
  {
   "cell_type": "markdown",
   "id": "68ff74a2",
   "metadata": {},
   "source": [
    "## 2. Models"
   ]
  },
  {
   "cell_type": "markdown",
   "id": "0a02cefe",
   "metadata": {},
   "source": [
    "### `bert-base-cased`"
   ]
  },
  {
   "cell_type": "code",
   "execution_count": 7,
   "id": "9b1c9936",
   "metadata": {},
   "outputs": [],
   "source": [
    "tokenizer = AutoTokenizer.from_pretrained(\"boychaboy/mnli-bert-base\")\n",
    "model = AutoModelForSequenceClassification.from_pretrained(\"boychaboy/mnli-bert-base\")\n",
    "mnli_bert = pipeline(\n",
    "    \"sentiment-analysis\",\n",
    "    tokenizer=tokenizer,\n",
    "    model=model,\n",
    "    return_all_scores=True\n",
    ")"
   ]
  },
  {
   "cell_type": "markdown",
   "id": "fa34e202",
   "metadata": {},
   "source": [
    "### `roberta-base`"
   ]
  },
  {
   "cell_type": "code",
   "execution_count": 8,
   "id": "708697f5",
   "metadata": {},
   "outputs": [],
   "source": [
    "roberta_base_tokenizer = AutoTokenizer.from_pretrained(\"boychaboy/mnli_roberta-base\")\n",
    "roberta_base_model = AutoModelForSequenceClassification.from_pretrained(\"boychaboy/mnli_roberta-base\")\n",
    "mnli_roberta_base = pipeline(\n",
    "    \"sentiment-analysis\",\n",
    "    tokenizer=roberta_base_tokenizer,\n",
    "    model=roberta_base_model,\n",
    "    return_all_scores=True\n",
    ")"
   ]
  },
  {
   "cell_type": "markdown",
   "id": "50e9a4fa",
   "metadata": {},
   "source": [
    "### `roberta-large`"
   ]
  },
  {
   "cell_type": "code",
   "execution_count": 9,
   "id": "94b29dc4",
   "metadata": {},
   "outputs": [],
   "source": [
    "roberta_large_tokenizer = AutoTokenizer.from_pretrained(\"boychaboy/mnli_roberta-large\")\n",
    "roberta_large_model = AutoModelForSequenceClassification.from_pretrained(\"boychaboy/mnli_roberta-large\")\n",
    "mnli_roberta_large = pipeline(\n",
    "    \"sentiment-analysis\",\n",
    "    tokenizer=roberta_large_tokenizer,\n",
    "    model=roberta_large_model,\n",
    "    return_all_scores=True\n",
    ")"
   ]
  },
  {
   "cell_type": "markdown",
   "id": "f4e9d560",
   "metadata": {},
   "source": [
    "## 3. Templates"
   ]
  },
  {
   "cell_type": "markdown",
   "id": "50c2e8cd",
   "metadata": {},
   "source": [
    "### Type 1"
   ]
  },
  {
   "cell_type": "code",
   "execution_count": 7,
   "id": "1e6d61ac",
   "metadata": {},
   "outputs": [],
   "source": [
    "TEMPLATE_PREM = 'Both {name1} and {name2} are {article} {occupation}'\n",
    "TEMPLATE_HYPO = '{name} is {article} {occupation}'\n",
    "TEMPLATE_CNT = 500\n",
    "VERSION = 0\n",
    "SEED = 1\n",
    "FILENAME = 't1_{CASE}_{TEMPLATE_CNT}_{VERSION}.csv'"
   ]
  },
  {
   "cell_type": "markdown",
   "id": "f83ba30f",
   "metadata": {},
   "source": [
    "generate template -> inference -> sort -> print & save"
   ]
  },
  {
   "cell_type": "code",
   "execution_count": null,
   "id": "15cf9029",
   "metadata": {},
   "outputs": [],
   "source": [
    "# case1 : female / male\n",
    "case = '1'\n",
    "name1 = name_df[is_female]['name'].tolist()\n",
    "name2 = name_df[is_male]['name'].tolist()\n",
    "print(f\"Case{case}: female {len(name1)} / male {len(name2)} / occupation {len(occupations)}\")\n",
    "type1_case1 = generate_template(TEMPLATE_PREM, TEMPLATE_HYPO, name1, name2, occupations, TEMPLATE_CNT, SEED)"
   ]
  },
  {
   "cell_type": "code",
   "execution_count": null,
   "id": "418d860f",
   "metadata": {},
   "outputs": [],
   "source": [
    "# case1 : female / male\n",
    "case = '1'\n",
    "name1 = name_df[is_female]['name'].tolist()\n",
    "name2 = name_df[is_male]['name'].tolist()\n",
    "print(f\"Case{case}: female {len(name1)} / male {len(name2)} / occupation {len(occupations)}\")\n",
    "case1 = generate_template(TEMPLATE_PREM, TEMPLATE_HYPO, name1, name2, occupations, TEMPLATE_CNT, SEED)\n",
    "\n",
    "# case2 : white / non-white\n",
    "case = '1'\n",
    "name1 = name_df[is_white]['name'].tolist()\n",
    "name2 = name_df[~is_white & ~is_none]['name'].tolist()\n",
    "print(f\"Case{case}: white {len(name1)} / non-white {len(name2)} / occupation {len(occupations)}\")\n",
    "case2 = generate_template(TEMPLATE_PREM, TEMPLATE_HYPO, name1, name2, occupations, TEMPLATE_CNT, SEED)\n",
    "\n",
    "# case3 : female white / female non-white\n",
    "case = '1'\n",
    "name1 = name_df[is_female & is_white]['name'].tolist()\n",
    "name2 = name_df[is_female & ~is_white & ~is_none]['name'].tolist()\n",
    "print(f\"Case{case}: female white {len(name1)} / famale non-white {len(name2)} / occupation {len(occupations)}\")\n",
    "case3 = generate_template(TEMPLATE_PREM, TEMPLATE_HYPO, name1, name2, occupations, TEMPLATE_CNT, SEED)\n",
    "\n",
    "# case4 : male white / male non-white\n",
    "case = '1'\n",
    "name1 = name_df[is_male & is_white]['name'].tolist()\n",
    "name2 = name_df[is_male & ~is_white & ~is_none]['name'].tolist()\n",
    "print(f\"Case{case}: male white {len(name1)} / male non-white {len(name2)} / occupation {len(occupations)}\")\n",
    "case4 = generate_template(TEMPLATE_PREM, TEMPLATE_HYPO, name1, name2, occupations, TEMPLATE_CNT, SEED)\n",
    "\n",
    "# case5 : male white / female non-white\n",
    "case = '1'\n",
    "name1 = name_df[is_male & is_white]['name'].tolist()\n",
    "name2 = name_df[is_female & ~is_white & ~is_none]['name'].tolist()\n",
    "print(f\"Case{case}: male white {len(name1)} / female non-white {len(name2)} / occupation {len(occupations)}\")\n",
    "case5 = generate_template(TEMPLATE_PREM, TEMPLATE_HYPO, name1, name2, occupations, TEMPLATE_CNT, SEED)"
   ]
  },
  {
   "cell_type": "code",
   "execution_count": null,
   "id": "99b0a82d",
   "metadata": {},
   "outputs": [],
   "source": []
  }
 ],
 "metadata": {
  "kernelspec": {
   "display_name": "Python 3",
   "language": "python",
   "name": "python3"
  },
  "language_info": {
   "codemirror_mode": {
    "name": "ipython",
    "version": 3
   },
   "file_extension": ".py",
   "mimetype": "text/x-python",
   "name": "python",
   "nbconvert_exporter": "python",
   "pygments_lexer": "ipython3",
   "version": "3.8.0"
  }
 },
 "nbformat": 4,
 "nbformat_minor": 5
}
